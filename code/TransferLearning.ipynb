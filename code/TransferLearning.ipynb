{
 "cells": [
  {
   "cell_type": "code",
   "execution_count": 2,
   "metadata": {
    "ExecuteTime": {
     "end_time": "2021-06-29T08:45:24.440508Z",
     "start_time": "2021-06-29T08:45:23.127334Z"
    }
   },
   "outputs": [],
   "source": [
    "# !pip install dgl-cu102==0.4.3\n",
    "# !pip install transformers==3.1.0\n"
   ]
  },
  {
   "cell_type": "code",
   "execution_count": 1,
   "metadata": {
    "ExecuteTime": {
     "end_time": "2021-06-29T08:46:56.407265Z",
     "start_time": "2021-06-29T08:46:48.376297Z"
    }
   },
   "outputs": [],
   "source": [
    "import time\n",
    "import matplotlib\n",
    "import matplotlib.pyplot as plt\n",
    "import torch\n",
    "from torch import nn\n",
    "from torch import optim\n",
    "from config import *\n",
    "from data import DGLREDataset, DGLREDataloader, BERTDGLREDataset\n",
    "from models.GAIN import GAIN_GloVe, GAIN_BERT\n",
    "import test\n",
    "from utils import Accuracy, get_cuda, logging, print_params\n"
   ]
  },
  {
   "cell_type": "code",
   "execution_count": 2,
   "metadata": {
    "ExecuteTime": {
     "end_time": "2021-06-29T08:46:56.446432Z",
     "start_time": "2021-06-29T08:46:56.413143Z"
    }
   },
   "outputs": [],
   "source": [
    "class GAIN_Original:\n",
    "    def __init__(self):\n",
    "        self.activation='relu'\n",
    "        self.batch_size=5\n",
    "        self.bert_fix=False\n",
    "        self.bert_hid_size=768\n",
    "        self.bert_path='../PLM/bert-base-uncased'\n",
    "        self.checkpoint_dir='checkpoint'\n",
    "        self.clip=-1\n",
    "        self.coslr=True\n",
    "        self.data_word_vec=np.array([[ 0.      ,  0.      ,  0.      ,  0.      ,  0.,             0.      ]])\n",
    "        self.dev_set='../data/dev.json'\n",
    "        self.dev_set_save='../data/prepro_data/dev_BERT.pkl'\n",
    "        self.dropout=0.6\n",
    "        self.entity_id_pad=0\n",
    "        self.entity_id_size=20\n",
    "        self.entity_type_num=7\n",
    "        self.entity_type_pad=0\n",
    "        self.entity_type_size=20\n",
    "        self.epoch=300\n",
    "        self.fig_result_dir='fig_result'\n",
    "        self.finetune_word=False\n",
    "        self.gcn_dim=808\n",
    "        self.gcn_layers=2\n",
    "        self.input_theta=-1\n",
    "        self.k_fold='none'\n",
    "        self.log_step=20\n",
    "        self.lr=0.001\n",
    "        self.lstm_dropout=0.1\n",
    "        self.lstm_hidden_size=32\n",
    "        self.max_entity_num=80\n",
    "        self.mention_drop=False\n",
    "        self.model_name='GAIN_BERT_base'\n",
    "        self.negativa_alpha=4.0\n",
    "        self.nlayers=1\n",
    "        self.pre_train_word=False\n",
    "        self.pretrain_model=''\n",
    "        self.relation_nums=97\n",
    "        self.save_model_freq=3\n",
    "        self.test_batch_size=16\n",
    "        self.test_epoch=5\n",
    "        self.test_set='../data/test.json'\n",
    "        self.test_set_save='../data/prepro_data/test_BERT.pkl'\n",
    "        self.train_set='../data/train_annotated.json'\n",
    "        self.train_set_save='../data/prepro_data/train_BERT.pkl'\n",
    "        self.use_entity_id=True\n",
    "        self.use_entity_type=True\n",
    "        self.use_model='bert'\n",
    "        self.vocabulary_size=200000\n",
    "        self.weight_decay=0.0001\n",
    "        self.word_emb_size=10\n",
    "        self.word_pad=0\n",
    "\n",
    "                                "
   ]
  },
  {
   "cell_type": "code",
   "execution_count": 3,
   "metadata": {
    "ExecuteTime": {
     "end_time": "2021-06-29T08:47:01.642041Z",
     "start_time": "2021-06-29T08:46:56.453815Z"
    }
   },
   "outputs": [
    {
     "data": {
      "text/plain": [
       "<All keys matched successfully>"
      ]
     },
     "execution_count": 3,
     "metadata": {},
     "output_type": "execute_result"
    }
   ],
   "source": [
    "import numpy as np\n",
    "from models.GAIN import GAIN_GloVe, GAIN_BERT\n",
    "opt = GAIN_Original()\n",
    "model_original = GAIN_BERT(opt)\n",
    "\n",
    "pretrain_model = \"GAIN_BERT_base_best.pt\"\n",
    "chkpt = torch.load(pretrain_model, map_location=torch.device('cpu'))\n",
    "\n",
    "model_original.load_state_dict(chkpt['checkpoint'])\n"
   ]
  },
  {
   "cell_type": "markdown",
   "metadata": {},
   "source": [
    "## DocRED dataset load"
   ]
  },
  {
   "cell_type": "code",
   "execution_count": 13,
   "metadata": {
    "ExecuteTime": {
     "end_time": "2021-06-29T08:51:21.809178Z",
     "start_time": "2021-06-29T08:51:07.237628Z"
    }
   },
   "outputs": [
    {
     "name": "stdout",
     "output_type": "stream",
     "text": [
      "Reading data from ../data/train_annotated.json.\n",
      "load preprocessed data from ../data/prepro_data/train_BERT.pkl.\n",
      "Reading data from ../data/dev.json.\n",
      "load preprocessed data from ../data/prepro_data/dev_BERT.pkl.\n"
     ]
    }
   ],
   "source": [
    "train_set = BERTDGLREDataset(opt.train_set, opt.train_set_save, word2id, ner2id, rel2id, dataset_type='train',\n",
    "                             opt=opt)\n",
    "dev_set = BERTDGLREDataset(opt.dev_set, opt.dev_set_save, word2id, ner2id, rel2id, dataset_type='dev',\n",
    "                           instance_in_train=train_set.instance_in_train, opt=opt)\n",
    "# dataloaders\n",
    "train_loader = DGLREDataloader(train_set, batch_size=opt.batch_size, shuffle=True,\n",
    "                               negativa_alpha=opt.negativa_alpha)\n",
    "dev_loader = DGLREDataloader(dev_set, batch_size=opt.test_batch_size, dataset_type='dev')"
   ]
  },
  {
   "cell_type": "code",
   "execution_count": 14,
   "metadata": {
    "ExecuteTime": {
     "end_time": "2021-06-29T08:51:21.831319Z",
     "start_time": "2021-06-29T08:51:21.812379Z"
    }
   },
   "outputs": [],
   "source": [
    "def train(model, train_loader):\n",
    "\n",
    "    model = get_cuda(model)\n",
    "\n",
    "    model.train()\n",
    "    acc_NA, acc_not_NA, acc_total = Accuracy(), Accuracy(), Accuracy()\n",
    "\n",
    "    start_epoch = 0\n",
    "    for epoch in range(start_epoch, opt.epoch + 1):\n",
    "        start_time = time.time()\n",
    "        for acc in [acc_NA, acc_not_NA, acc_total]:\n",
    "            acc.clear()\n",
    "\n",
    "        for ii, d in enumerate(train_loader):\n",
    "            relation_multi_label = d['relation_multi_label']\n",
    "            relation_mask = d['relation_mask']\n",
    "            relation_label = d['relation_label']\n",
    "\n",
    "            predict = model(words=d['context_idxs'],\n",
    "                src_lengths=d['context_word_length'],\n",
    "                mask=d['context_word_mask'],\n",
    "                entity_type=d['context_ner'],\n",
    "                entity_id=d['context_pos'],\n",
    "                mention_id=d['context_mention'],\n",
    "                distance=None,\n",
    "                entity2mention_table=d['entity2mention_table'],\n",
    "                graphs=d['graphs'],\n",
    "                h_t_pairs=d['h_t_pairs'],\n",
    "                relation_mask=relation_mask,\n",
    "                path_table=d['path_table'],\n",
    "                entity_graphs=d['entity_graphs'],\n",
    "                ht_pair_distance=d['ht_pair_distance']\n",
    "            )\n",
    "            print(predict)\n",
    "            break\n",
    "        break"
   ]
  },
  {
   "cell_type": "code",
   "execution_count": 15,
   "metadata": {
    "ExecuteTime": {
     "end_time": "2021-06-29T08:51:22.231284Z",
     "start_time": "2021-06-29T08:51:21.834036Z"
    },
    "collapsed": true
   },
   "outputs": [
    {
     "name": "stdout",
     "output_type": "stream",
     "text": [
      "tensor([[[  -4.4753,  -43.2044,  -42.7028,  ...,  -31.9513,  -31.4520,\n",
      "           -37.2508],\n",
      "         [ -12.3107,  -54.4923,  -43.5470,  ...,  -41.5890,  -38.9031,\n",
      "           -36.9920],\n",
      "         [  -9.3263,  -67.7657,  -43.3337,  ...,  -58.3543,  -62.6477,\n",
      "           -62.0271],\n",
      "         ...,\n",
      "         [ -19.6678, -133.6537, -139.1118,  ..., -141.7457, -149.0825,\n",
      "          -150.9542],\n",
      "         [ -11.6704, -151.5786, -153.3741,  ..., -148.8346, -162.9838,\n",
      "          -169.6308],\n",
      "         [ -19.8514, -153.4541, -135.7840,  ..., -181.8170, -167.2855,\n",
      "          -192.5784]],\n",
      "\n",
      "        [[  -8.0435,  -26.3091,    9.1803,  ...,  -24.8662,  -44.5049,\n",
      "           -46.8739],\n",
      "         [ -12.1401,   13.1404,  -34.0412,  ...,  -68.4048,  -68.7761,\n",
      "           -74.8332],\n",
      "         [ -19.3975,   21.9022,  -40.7421,  ...,  -60.0891,  -66.3379,\n",
      "           -70.8801],\n",
      "         ...,\n",
      "         [ -29.8872, -261.7500, -197.6829,  ..., -282.1135, -296.5481,\n",
      "          -286.5006],\n",
      "         [ -14.4501, -280.8423, -218.3451,  ..., -292.9942, -315.7889,\n",
      "          -333.5967],\n",
      "         [ -16.5158, -242.1393, -233.2461,  ..., -269.3546, -250.7040,\n",
      "          -273.8637]],\n",
      "\n",
      "        [[ -12.6849,  -48.4083,  -33.9844,  ...,  -38.8883,  -54.3550,\n",
      "           -51.4969],\n",
      "         [  -3.5579,  -26.7843,  -25.5715,  ...,  -28.1560,  -34.3501,\n",
      "           -30.9690],\n",
      "         [  -7.0079,  -14.4171,  -31.7177,  ...,  -26.1274,  -33.5879,\n",
      "           -35.6028],\n",
      "         ...,\n",
      "         [ -10.7722, -178.0745, -152.1582,  ..., -171.4172, -159.4110,\n",
      "          -164.4264],\n",
      "         [   7.7759, -199.4094, -151.7922,  ..., -180.9898, -204.5764,\n",
      "          -183.5249],\n",
      "         [  -9.9374, -182.3643, -155.0539,  ..., -178.6789, -188.1431,\n",
      "          -198.6856]],\n",
      "\n",
      "        [[ -10.1880,  -43.1928,  -33.1848,  ...,  -37.2874,  -41.4037,\n",
      "           -42.3364],\n",
      "         [  -7.1602,  -31.3243,  -15.5025,  ...,  -22.4979,  -28.5920,\n",
      "           -30.2312],\n",
      "         [  -6.6658,  -22.4032,  -42.3510,  ...,  -53.8467,  -53.3699,\n",
      "           -56.6145],\n",
      "         ...,\n",
      "         [  93.1903,  -98.0080, -123.3451,  ..., -278.1003, -229.6146,\n",
      "          -221.5207],\n",
      "         [  63.5660,  -62.2264,  -78.4118,  ..., -141.4747, -135.6759,\n",
      "          -149.1661],\n",
      "         [  95.1473, -118.6475, -132.2170,  ..., -249.1155, -234.2563,\n",
      "          -190.9477]],\n",
      "\n",
      "        [[ -18.3880,  -85.1893,  -65.5579,  ...,  -67.8016,  -73.1418,\n",
      "           -53.4371],\n",
      "         [ -12.4315,  -31.7835,  -37.0043,  ...,  -32.1117,  -46.3217,\n",
      "           -43.6927],\n",
      "         [ -12.8856,  -39.7121,  -41.9566,  ...,  -46.4641,  -53.8383,\n",
      "           -49.6365],\n",
      "         ...,\n",
      "         [  -1.2707, -204.8165, -151.9459,  ..., -187.8151, -188.3626,\n",
      "          -186.4528],\n",
      "         [ -11.9985, -175.1240, -160.7561,  ..., -189.6013, -214.8574,\n",
      "          -205.7126],\n",
      "         [  -1.9329, -188.3213, -152.3233,  ..., -174.8716, -197.0433,\n",
      "          -192.1178]]], device='cuda:0', grad_fn=<AddBackward0>)\n"
     ]
    }
   ],
   "source": [
    "train(model_original, train_loader)"
   ]
  },
  {
   "cell_type": "markdown",
   "metadata": {},
   "source": [
    "# Change OPT (DocRED -> SemEval)"
   ]
  },
  {
   "cell_type": "code",
   "execution_count": 47,
   "metadata": {
    "ExecuteTime": {
     "end_time": "2021-06-29T09:05:27.370821Z",
     "start_time": "2021-06-29T09:05:27.331628Z"
    }
   },
   "outputs": [],
   "source": [
    "optSemEval = opt\n",
    "optSemEval.train = \"../SemEval2DocRED/train_annotated.json\"\n",
    "optSemEval.train_set = \"../SemEval2DocRED/train_annotated.json\"\n",
    "optSemEval.train_set_save = \"../SemEval2DocRED/train_BERT.pkl\"\n",
    "\n",
    "optSemEval.dev_set = \"../SemEval2DocRED/dev.json\"\n",
    "optSemEval.dev_set_save = \"../SemEval2DocRED/dev_BERT.pkl\"\n",
    "\n",
    "with open (\"../SemEval2DocRED/DocRED_baseline_metadata/rel2id.json\") as d:\n",
    "    optSemEval.rel2id = json.load(d)\n",
    "with open (\"../SemEval2DocRED/DocRED_baseline_metadata/word2id.json\") as d:\n",
    "    optSemEval.word2id = json.load(d)\n",
    "\n",
    "optSemEval.relation_nums = 10"
   ]
  },
  {
   "cell_type": "code",
   "execution_count": 58,
   "metadata": {
    "ExecuteTime": {
     "end_time": "2021-06-29T09:07:53.198607Z",
     "start_time": "2021-06-29T09:07:53.193406Z"
    }
   },
   "outputs": [],
   "source": [
    "optSemEval.relation_nums = 10"
   ]
  },
  {
   "cell_type": "code",
   "execution_count": 59,
   "metadata": {
    "ExecuteTime": {
     "end_time": "2021-06-29T09:08:25.649356Z",
     "start_time": "2021-06-29T09:08:25.641355Z"
    }
   },
   "outputs": [
    {
     "data": {
      "text/plain": [
       "{'BLANK': 0, 'ORG': 1, 'LOC': 2, 'TIME': 3, 'PER': 4, 'MISC': 5, 'NUM': 6}"
      ]
     },
     "execution_count": 59,
     "metadata": {},
     "output_type": "execute_result"
    }
   ],
   "source": [
    "ner2id"
   ]
  },
  {
   "cell_type": "code",
   "execution_count": 61,
   "metadata": {
    "ExecuteTime": {
     "end_time": "2021-06-29T09:10:45.214200Z",
     "start_time": "2021-06-29T09:10:20.254028Z"
    }
   },
   "outputs": [
    {
     "name": "stdout",
     "output_type": "stream",
     "text": [
      "Reading data from ../SemEval2DocRED/train_annotated.json.\n",
      "load preprocessed data from ../SemEval2DocRED/train_BERT.pkl.\n",
      "Reading data from ../SemEval2DocRED/dev.json.\n",
      "../PLM/bert-base-uncased\n",
      "loading..\n",
      "finish reading ../SemEval2DocRED/dev.json and save preprocessed data to ../SemEval2DocRED/dev_BERT.pkl.\n"
     ]
    }
   ],
   "source": [
    "train_set = BERTDGLREDataset(optSemEval.train_set, optSemEval.train_set_save, optSemEval.word2id, {\"None\":0}, optSemEval.rel2id, dataset_type='train',\n",
    "                             opt=optSemEval)\n",
    "dev_set = BERTDGLREDataset(optSemEval.dev_set, optSemEval.dev_set_save, optSemEval.word2id, {\"None\":0}, optSemEval.rel2id, dataset_type='dev',\n",
    "                           instance_in_train=train_set.instance_in_train, opt=optSemEval)\n",
    "# dataloaders\n",
    "train_loader = DGLREDataloader(train_set, batch_size=optSemEval.batch_size, shuffle=True,\n",
    "                               negativa_alpha=optSemEval.negativa_alpha)\n",
    "dev_loader = DGLREDataloader(dev_set, batch_size=optSemEval.test_batch_size, dataset_type='dev')"
   ]
  },
  {
   "cell_type": "code",
   "execution_count": 62,
   "metadata": {
    "ExecuteTime": {
     "end_time": "2021-06-29T13:07:55.931575Z",
     "start_time": "2021-06-29T13:07:52.082942Z"
    }
   },
   "outputs": [],
   "source": [
    "model_semEval = GAIN_BERT(optSemEval)\n"
   ]
  },
  {
   "cell_type": "code",
   "execution_count": 67,
   "metadata": {
    "ExecuteTime": {
     "end_time": "2021-06-29T13:09:24.204599Z",
     "start_time": "2021-06-29T13:09:24.196016Z"
    }
   },
   "outputs": [],
   "source": [
    "model_semEval.bert = model_original.bert\n",
    "\n",
    "for child in model_semEval.bert.children():\n",
    "    for param in child.parameters():\n",
    "        param.requires_grad = False"
   ]
  },
  {
   "cell_type": "code",
   "execution_count": 68,
   "metadata": {
    "ExecuteTime": {
     "end_time": "2021-06-29T13:09:27.317349Z",
     "start_time": "2021-06-29T13:09:27.193467Z"
    },
    "scrolled": true
   },
   "outputs": [
    {
     "name": "stdout",
     "output_type": "stream",
     "text": [
      "tensor([[[ 0.0820,  0.0555,  0.1060,  ..., -0.1069, -0.2659,  0.2644],\n",
      "         [-0.3910, -0.1363, -0.2390,  ...,  0.1367, -0.2156,  0.2055],\n",
      "         [-0.8999, -0.0288, -0.0096,  ...,  0.1641, -0.0861,  0.4132],\n",
      "         ...,\n",
      "         [-1.1530, -0.0763,  0.2963,  ...,  0.4006, -0.6051,  1.2431],\n",
      "         [-0.0294,  0.0123, -0.9427,  ..., -0.1362, -0.7850,  0.4324],\n",
      "         [-0.4760,  0.3644, -0.7466,  ..., -0.0844,  0.3149, -0.0189]],\n",
      "\n",
      "        [[ 0.1789,  0.4055,  0.0378,  ..., -0.0627, -0.3748,  0.2635],\n",
      "         [-0.0723, -0.4669, -0.1513,  ...,  0.0471,  0.1920,  0.3797],\n",
      "         [ 0.2763,  0.4738,  0.2147,  ...,  0.7542, -1.3142,  0.2215],\n",
      "         ...,\n",
      "         [-0.3469,  0.5495,  0.1965,  ...,  0.7479,  0.0550, -0.0234],\n",
      "         [ 0.1589,  0.3491, -0.0970,  ...,  0.0991, -0.3902,  0.2634],\n",
      "         [ 0.9001, -0.4232, -0.0416,  ...,  1.1210, -0.0956, -0.2757]],\n",
      "\n",
      "        [[-0.2735,  0.0868, -0.0593,  ...,  0.2635, -0.0318,  0.2504],\n",
      "         [-0.1859, -0.1550, -0.0871,  ...,  0.1702,  0.1717, -0.2689],\n",
      "         [-0.8929, -0.0756,  0.6088,  ...,  0.0684,  0.1615, -1.0472],\n",
      "         ...,\n",
      "         [-0.5270, -0.2692, -0.2648,  ...,  0.1627, -0.3618, -0.0776],\n",
      "         [-0.7235, -0.0190, -0.0322,  ..., -0.4464, -0.7189, -0.3182],\n",
      "         [-0.1406, -0.0174, -0.7252,  ...,  0.1740,  0.2456, -0.4364]],\n",
      "\n",
      "        [[ 0.3804, -0.7191,  0.0289,  ...,  0.0469, -0.0773,  0.5482],\n",
      "         [ 0.2762,  0.1258,  0.1405,  ..., -0.0123,  0.3372,  0.0186],\n",
      "         [-0.1389, -1.0742, -0.1354,  ...,  0.4433, -0.4761,  1.5294],\n",
      "         ...,\n",
      "         [-0.7070,  0.3381,  0.2325,  ..., -0.5846,  0.0988,  0.9922],\n",
      "         [-0.7860,  0.1351, -0.3418,  ..., -0.2036,  0.3896,  0.6957],\n",
      "         [-0.7587,  0.2274,  0.1141,  ...,  0.0594,  0.2595,  0.7112]],\n",
      "\n",
      "        [[ 0.0032,  0.4409,  0.1506,  ...,  0.0897, -0.5623,  0.4399],\n",
      "         [-0.3832,  0.2642,  0.7628,  ...,  0.7615, -0.7455,  0.3780],\n",
      "         [-0.3224, -0.4984, -0.7141,  ...,  0.2230, -1.3417, -0.0179],\n",
      "         ...,\n",
      "         [ 0.3636, -0.5392,  1.0652,  ..., -0.6659, -0.4435,  0.5480],\n",
      "         [-0.5997,  0.3249,  0.6947,  ..., -0.0702, -1.1786,  1.7171],\n",
      "         [-0.6824,  0.0033,  0.1558,  ...,  0.3997, -0.5324,  0.8039]]],\n",
      "       device='cuda:0', grad_fn=<AddBackward0>)\n"
     ]
    }
   ],
   "source": [
    "train(model_semEval, train_loader)"
   ]
  },
  {
   "cell_type": "code",
   "execution_count": null,
   "metadata": {},
   "outputs": [],
   "source": []
  }
 ],
 "metadata": {
  "kernelspec": {
   "display_name": "Python 3",
   "language": "python",
   "name": "python3"
  },
  "language_info": {
   "codemirror_mode": {
    "name": "ipython",
    "version": 3
   },
   "file_extension": ".py",
   "mimetype": "text/x-python",
   "name": "python",
   "nbconvert_exporter": "python",
   "pygments_lexer": "ipython3",
   "version": "3.6.12"
  },
  "latex_envs": {
   "LaTeX_envs_menu_present": true,
   "autoclose": false,
   "autocomplete": true,
   "bibliofile": "biblio.bib",
   "cite_by": "apalike",
   "current_citInitial": 1,
   "eqLabelWithNumbers": true,
   "eqNumInitial": 1,
   "hotkeys": {
    "equation": "Ctrl-E",
    "itemize": "Ctrl-I"
   },
   "labels_anchors": false,
   "latex_user_defs": false,
   "report_style_numbering": false,
   "user_envs_cfg": false
  }
 },
 "nbformat": 4,
 "nbformat_minor": 4
}
